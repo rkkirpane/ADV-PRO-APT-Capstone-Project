{
 "cells": [
  {
   "cell_type": "markdown",
   "metadata": {},
   "source": [
    "## Problem Statement\n",
    "\n",
    "Dream Housing Finance Inc. specializes in home loans across different market segments - rural, urban and semi-urban.  Thier loan eligibility process is based on customer details provided while filling an online application form. To create a targeted marketing campaign for different segments, they have asked for a comprehensive analysis of the data collected so far.\n",
    "\n",
    "## About the Dataset\n",
    "The dataset has details of 614 customers with the following 13 features\n",
    "\n",
    "|Feature|Description|\n",
    "|-----|-----|\n",
    "|Loan_ID|Unique Loan ID|\n",
    "|Gender|Male/Female|\n",
    "|Married|Applicant Married (Y/N)|\n",
    "|Dependents|Number of dependents|\n",
    "|Education|Graduate/Under Graduate|\n",
    "|Self_Employed|Self employed (Y/N)|\n",
    "|ApplicantIncome|Income of the applicant|\n",
    "|CoapplicantIncome|Income of the co-applicant|\n",
    "|LoanAmount|Loan amount in thousands|\n",
    "|Loan_Amount_Term|Term of loan in months|\n",
    "|Credit_History|credit history meets guidelines}|\n",
    "|Property_Area| Urban/Semi-Urban/Rural|\n",
    "|Loan_Status|Loan approved (Y/N)|\n",
    "\n",
    "\n",
    "\n",
    "Our major work for this project involves data analysis using Pandas. \n",
    "\n",
    "## Why solve this project ?\n",
    "\n",
    "After completing this project, you will have better grip on working with pandas. In this project you will apply following concepts.\n",
    "\n",
    " \n",
    "- Dataframe slicing \n",
    "- Dataframe aggregation \n",
    "- Pivot table operations"
   ]
  },
  {
   "cell_type": "code",
   "execution_count": 1,
   "metadata": {},
   "outputs": [],
   "source": [
    "# Import packages\n",
    "import numpy as np\n",
    "import pandas as pd\n",
    "from scipy.stats import mode \n"
   ]
  },
  {
   "cell_type": "markdown",
   "metadata": {},
   "source": [
    "## Task 1\n",
    "**Let's check which variable is categorical and which one is numerical so that you will get a basic idea about the features of the bank dataset.**\n",
    "\n",
    "#### Instructions :\n",
    "\n",
    "- Create dataframe `bank` by passing the `path` of the file\n",
    "\n",
    "\n",
    "- Create the variable `'categorical_var'` and using `'df.select_dtypes(include = 'object')'` check all categorical values.  \n",
    "\n",
    "\n",
    "- print `'categorical_var'`\n",
    "\n",
    "\n",
    "- Create the variable `'numerical_var'` and using `'df.select_dtypes(include = 'number')'` check all categorical values.\n",
    "\n",
    "\n",
    "- print `'numerical_var'`"
   ]
  },
  {
   "cell_type": "code",
   "execution_count": 2,
   "metadata": {},
   "outputs": [],
   "source": [
    "\n",
    "# code starts here\n",
    "#Load Dataset\n",
    "path = '../data/data.csv'\n",
    "\n",
    "bank = pd.read_csv(path)\n"
   ]
  },
  {
   "cell_type": "code",
   "execution_count": 3,
   "metadata": {},
   "outputs": [
    {
     "name": "stdout",
     "output_type": "stream",
     "text": [
      "Index(['Loan_ID', 'Gender', 'Married', 'Dependents', 'Education',\n",
      "       'Self_Employed', 'Property_Area', 'Loan_Status'],\n",
      "      dtype='object')\n"
     ]
    }
   ],
   "source": [
    "# Display categorical variable\n",
    "\n",
    "\n",
    "categorical_var=bank.select_dtypes(include='object')\n",
    "\n",
    "print(categorical_var.columns)"
   ]
  },
  {
   "cell_type": "code",
   "execution_count": 4,
   "metadata": {},
   "outputs": [
    {
     "name": "stdout",
     "output_type": "stream",
     "text": [
      "Index(['ApplicantIncome', 'CoapplicantIncome', 'LoanAmount',\n",
      "       'Loan_Amount_Term', 'Credit_History'],\n",
      "      dtype='object')\n"
     ]
    }
   ],
   "source": [
    "#Code for numerical variable\n",
    "\n",
    "numerical_var=bank.select_dtypes(include='number')\n",
    "\n",
    "print(numerical_var.columns)"
   ]
  },
  {
   "cell_type": "markdown",
   "metadata": {},
   "source": [
    "## Task 2\n",
    "\n",
    "**Sometimes customers forget to fill in all the details or they don't want to share other details. Because of that, some of the fields in the dataset will have missing values. Now you have to check which columns have missing values and also check the count of missing values each column has. If you get the columns that have missing values, try to fill them.**\n",
    "\n",
    "\n",
    "#### Instructions :\n",
    "\n",
    "- From the dataframe `bank`, drop the column `Loan_ID` to create a new dataframe `banks`\n",
    "\n",
    "- To see the null values, use `\"isnull().sum()\"` function and print it.\n",
    "\n",
    "- Calculate `mode` for the dataframe `banks` and store in `bank_mode`\n",
    "\n",
    "- Fill missing(NaN) values of `banks` with `bank_mode` and store the cleaned dataframe back in `banks`. \n",
    "\n",
    "-  Check if all the missing values `(NaN)` are filled."
   ]
  },
  {
   "cell_type": "code",
   "execution_count": 5,
   "metadata": {},
   "outputs": [
    {
     "name": "stdout",
     "output_type": "stream",
     "text": [
      "Gender               13\n",
      "Married               3\n",
      "Dependents           15\n",
      "Education             0\n",
      "Self_Employed        32\n",
      "ApplicantIncome       0\n",
      "CoapplicantIncome     0\n",
      "LoanAmount           22\n",
      "Loan_Amount_Term     14\n",
      "Credit_History       50\n",
      "Property_Area         0\n",
      "Loan_Status           0\n",
      "dtype: int64\n"
     ]
    }
   ],
   "source": [
    "# code starts here\n",
    "\n",
    "# load the dataset and drop the Loan_ID\n",
    "banks= bank.drop(columns='Loan_ID')\n",
    "\n",
    "# check  all the missing values filled.\n",
    "print(banks.isnull().sum())\n"
   ]
  },
  {
   "cell_type": "code",
   "execution_count": 6,
   "metadata": {},
   "outputs": [
    {
     "name": "stdout",
     "output_type": "stream",
     "text": [
      "Gender               0\n",
      "Married              0\n",
      "Dependents           0\n",
      "Education            0\n",
      "Self_Employed        0\n",
      "ApplicantIncome      0\n",
      "CoapplicantIncome    0\n",
      "LoanAmount           0\n",
      "Loan_Amount_Term     0\n",
      "Credit_History       0\n",
      "Property_Area        0\n",
      "Loan_Status          0\n",
      "dtype: int64\n"
     ]
    }
   ],
   "source": [
    "# apply mode \n",
    "bank_mode = banks.mode().iloc[0]\n",
    "\n",
    "# Fill the missing values with \n",
    "banks.fillna(bank_mode, inplace=True)\n",
    "\n",
    "# check again all the missing values filled.\n",
    "print(banks.isnull().sum())\n"
   ]
  },
  {
   "cell_type": "markdown",
   "metadata": {},
   "source": [
    "## Task 3\n",
    "\n",
    "**Now let's check the loan amount of an average person based on  `'Gender', 'Married', 'Self_Employed' `.  This will give a basic idea of the average loan amount of a person.**\n",
    "\n",
    "\n",
    "#### Instructions :\n",
    "\n",
    "- We will use previously created dataframe `banks` for this task.\n",
    "- Generate a pivot table with index as `'Gender', 'Married', 'Self_Employed'` and values as `'LoanAmount'`,  using `mean aggregation`\n",
    "\n",
    "\n",
    "- Store the result in a variable called `'avg_loan_amount'`\n",
    "\n",
    "\n"
   ]
  },
  {
   "cell_type": "code",
   "execution_count": 7,
   "metadata": {},
   "outputs": [
    {
     "name": "stdout",
     "output_type": "stream",
     "text": [
      "                              LoanAmount\n",
      "Gender Married Self_Employed            \n",
      "Female No      No             114.768116\n",
      "               Yes            125.272727\n",
      "       Yes     No             133.714286\n",
      "               Yes            282.250000\n",
      "Male   No      No             129.508621\n",
      "               Yes            180.588235\n",
      "       Yes     No             152.608150\n",
      "               Yes            167.420000\n"
     ]
    }
   ],
   "source": [
    "# code starts here\n",
    "\n",
    "# check the avg_loan_amount\n",
    "avg_loan_amount = banks.pivot_table(values=[\"LoanAmount\"], index=[\"Gender\",\"Married\",\"Self_Employed\"], aggfunc=np.mean)\n",
    "\n",
    "\n",
    "print (avg_loan_amount)\n",
    "# code ends here"
   ]
  },
  {
   "cell_type": "markdown",
   "metadata": {},
   "source": [
    "## Task 4\n",
    "\n",
    "**Now let's check the percentage of loan approved based on a person's employment type.**\n",
    "\n",
    "\n",
    "#### Instructions:\n",
    "\n",
    "- We will use the previously created dataframe `banks` for this task.\n",
    "\n",
    "- Create variable `'loan_approved_se'` and store the count of results where `Self_Employed` == `Yes ` and `Loan_Status` == `Y`.\n",
    "\n",
    "- Create variable `'loan_approved_nse'` and store the count of results where `Self_Employed` == `No ` and `Loan_Status` == `Y`.\n",
    "\n",
    "- `Loan_Status` count is given as `614`.\n",
    "\n",
    "- Calculate the percentage of loan approval for self-employed people and store result in variable `'percentage_se'`. \n",
    "\n",
    "- Calculate the percentage of loan approval for people who are not self-employed and store the result in variable `'percentage_nse'`.\n",
    "\n"
   ]
  },
  {
   "cell_type": "code",
   "execution_count": 8,
   "metadata": {},
   "outputs": [
    {
     "name": "stdout",
     "output_type": "stream",
     "text": [
      "Loan_Status    56\n",
      "dtype: int64\n"
     ]
    }
   ],
   "source": [
    "# code for loan aprroved for self employed\n",
    "loan_approved_se = banks.loc[(banks[\"Self_Employed\"]==\"Yes\")  & (banks[\"Loan_Status\"]==\"Y\"), [\"Loan_Status\"]].count()\n",
    "print(loan_approved_se)\n"
   ]
  },
  {
   "cell_type": "code",
   "execution_count": 9,
   "metadata": {},
   "outputs": [
    {
     "name": "stdout",
     "output_type": "stream",
     "text": [
      "Loan_Status    366\n",
      "dtype: int64\n"
     ]
    }
   ],
   "source": [
    "# code for loan approved for non self employed\n",
    "loan_approved_nse = banks.loc[(banks[\"Self_Employed\"]==\"No\")  & (banks[\"Loan_Status\"]==\"Y\"), [\"Loan_Status\"]].count()\n",
    "print(loan_approved_nse)\n"
   ]
  },
  {
   "cell_type": "code",
   "execution_count": 10,
   "metadata": {},
   "outputs": [
    {
     "name": "stdout",
     "output_type": "stream",
     "text": [
      "9.120521172638437\n"
     ]
    }
   ],
   "source": [
    "# percentage of loan approved for self employed\n",
    "percentage_se = (loan_approved_se * 100 / 614)\n",
    "percentage_se=percentage_se[0]\n",
    "# print percentage of loan approved for self employed\n",
    "print(percentage_se)\n"
   ]
  },
  {
   "cell_type": "code",
   "execution_count": 11,
   "metadata": {},
   "outputs": [
    {
     "name": "stdout",
     "output_type": "stream",
     "text": [
      "59.60912052117264\n"
     ]
    }
   ],
   "source": [
    "#percentage of loan for non self employed\n",
    "percentage_nse = (loan_approved_nse * 100 / 614)\n",
    "percentage_nse=percentage_nse[0]\n",
    "#print percentage of loan for non self employed\n",
    "print (percentage_nse)\n"
   ]
  },
  {
   "cell_type": "markdown",
   "metadata": {},
   "source": [
    "## Task 5\n",
    "\n",
    "**A government audit is happening real soon! So the company wants to find out those applicants with long loan amount term.**  \n",
    "\n",
    "#### Instructions:\n",
    "\n",
    "- Use `\"apply()\"` function to convert `Loan_Amount_Term`  which is in months to a year and store the result in a variable `'loan_term'`.\n",
    "\n",
    "- Find the number of applicants having loan amount term greater than or equal to 25 years and store them in a variable called `'big_loan_term'`.\n",
    "\n"
   ]
  },
  {
   "cell_type": "code",
   "execution_count": 12,
   "metadata": {},
   "outputs": [
    {
     "name": "stdout",
     "output_type": "stream",
     "text": [
      "554\n"
     ]
    }
   ],
   "source": [
    "# loan amount term \n",
    "\n",
    "loan_term = banks['Loan_Amount_Term'].apply(lambda x: int(x)/12 )\n",
    "\n",
    "big_loan_term=len(loan_term[loan_term>=25])\n",
    "\n",
    "print(big_loan_term)\n",
    "\n"
   ]
  },
  {
   "cell_type": "markdown",
   "metadata": {},
   "source": [
    "## Task 6\n",
    "\n",
    "**Now let's check the average income of an applicant and the average loan given to a person based on their income.**\n",
    "\n",
    "\n",
    "#### Instructions :\n",
    "\n",
    "- Groupby the `'banks'` dataframe by `Loan_Status` and store the result in a variable called `'loan_groupby'`\n",
    "\n",
    "- Subset `'loan_groupby'` to include only  `['ApplicantIncome', 'Credit_History']` and store the subsetted dataframe back in `'loan_groupby'`\n",
    "\n",
    "- Then find the `mean` of `'loan_groupby'` and store the result in a new variable `'mean_values'`\n",
    "\n",
    "\n"
   ]
  },
  {
   "cell_type": "code",
   "execution_count": 13,
   "metadata": {},
   "outputs": [
    {
     "name": "stdout",
     "output_type": "stream",
     "text": [
      "            ApplicantIncome Credit_History\n",
      "                       mean           mean\n",
      "Loan_Status                               \n",
      "N               5446.078125       0.572917\n",
      "Y               5384.068720       0.983412\n"
     ]
    }
   ],
   "source": [
    "# code starts here\n",
    "\n",
    "columns_to_show = ['ApplicantIncome', 'Credit_History']\n",
    " \n",
    "loan_groupby=banks.groupby(['Loan_Status'])\n",
    "\n",
    "loan_groupby=loan_groupby[columns_to_show]\n",
    "\n",
    "# Check the mean value \n",
    "mean_values=loan_groupby.agg([np.mean])\n",
    "\n",
    "print(mean_values)\n",
    "\n",
    "# code ends here"
   ]
  },
  {
   "cell_type": "code",
   "execution_count": null,
   "metadata": {},
   "outputs": [],
   "source": []
  }
 ],
 "metadata": {
  "kernelspec": {
   "display_name": "Python 3",
   "language": "python",
   "name": "python3"
  },
  "language_info": {
   "codemirror_mode": {
    "name": "ipython",
    "version": 3
   },
   "file_extension": ".py",
   "mimetype": "text/x-python",
   "name": "python",
   "nbconvert_exporter": "python",
   "pygments_lexer": "ipython3",
   "version": "3.8.3"
  }
 },
 "nbformat": 4,
 "nbformat_minor": 4
}
