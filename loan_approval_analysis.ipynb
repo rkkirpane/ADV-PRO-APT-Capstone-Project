{
 "cells": [
  {
   "cell_type": "markdown",
   "metadata": {},
   "source": [
    "## Problem Statement\n",
    "\n",
    "Dream Housing Finance Inc. specializes in home loans across different market segments - rural, urban and semi-urban.  Thier loan eligibility process is based on customer details provided while filling an online application form. To create a targeted marketing campaign for different segments, they have asked for a comprehensive analysis of the data collected so far.\n",
    "\n",
    "## About the Dataset\n",
    "The dataset has details of 614 customers with the following 13 features\n",
    "\n",
    "|Feature|Description|\n",
    "|-----|-----|\n",
    "|Loan_ID|Unique Loan ID|\n",
    "|Gender|Male/Female|\n",
    "|Married|Applicant Married (Y/N)|\n",
    "|Dependents|Number of dependents|\n",
    "|Education|Graduate/Under Graduate|\n",
    "|Self_Employed|Self employed (Y/N)|\n",
    "|ApplicantIncome|Income of the applicant|\n",
    "|CoapplicantIncome|Income of the co-applicant|\n",
    "|LoanAmount|Loan amount in thousands|\n",
    "|Loan_Amount_Term|Term of loan in months|\n",
    "|Credit_History|credit history meets guidelines}|\n",
    "|Property_Area| Urban/Semi-Urban/Rural|\n",
    "|Loan_Status|Loan approved (Y/N)|\n",
    "\n",
    "\n",
    "\n",
    "Our major work for this project involves data analysis using Pandas. \n",
    "\n",
    "## Why solve this project ?\n",
    "\n",
    "After completing this project, you will have better grip on working with pandas. In this project you will apply following concepts.\n",
    "\n",
    " \n",
    "- Dataframe slicing \n",
    "- Dataframe aggregation \n",
    "- Pivot table operations"
   ]
  },
  {
   "cell_type": "code",
   "execution_count": 1,
   "metadata": {},
   "outputs": [],
   "source": [
    "# Import packages\n",
    "import numpy as np\n",
    "import pandas as pd\n",
    "from scipy.stats import mode \n"
   ]
  },
  {
   "cell_type": "markdown",
   "metadata": {},
   "source": [
    "## Task 1\n",
    "**Let's check which variable is categorical and which one is numerical so that you will get a basic idea about the features of the bank dataset.**\n",
    "\n",
    "#### Instructions :\n",
    "\n",
    "- Create dataframe `bank` by passing the `path` of the file\n",
    "\n",
    "\n",
    "- Create the variable `'categorical_var'` and using `'df.select_dtypes(include = 'object')'` check all categorical values.  \n",
    "\n",
    "\n",
    "- print `'categorical_var'`\n",
    "\n",
    "\n",
    "- Create the variable `'numerical_var'` and using `'df.select_dtypes(include = 'number')'` check all categorical values.\n",
    "\n",
    "\n",
    "- print `'numerical_var'`"
   ]
  },
  {
   "cell_type": "code",
   "execution_count": null,
   "metadata": {},
   "outputs": [],
   "source": []
  },
  {
   "cell_type": "markdown",
   "metadata": {},
   "source": [
    "## Task 2\n",
    "\n",
    "**Sometimes customers forget to fill in all the details or they don't want to share other details. Because of that, some of the fields in the dataset will have missing values. Now you have to check which columns have missing values and also check the count of missing values each column has. If you get the columns that have missing values, try to fill them.**\n",
    "\n",
    "\n",
    "#### Instructions :\n",
    "\n",
    "- From the dataframe `bank`, drop the column `Loan_ID` to create a new dataframe `banks`\n",
    "\n",
    "- To see the null values, use `\"isnull().sum()\"` function and print it.\n",
    "\n",
    "- Calculate `mode` for the dataframe `banks` and store in `bank_mode`\n",
    "\n",
    "- Fill missing(NaN) values of `banks` with `bank_mode` and store the cleaned dataframe back in `banks`. \n",
    "\n",
    "-  Check if all the missing values `(NaN)` are filled."
   ]
  },
  {
   "cell_type": "code",
   "execution_count": null,
   "metadata": {},
   "outputs": [],
   "source": []
  },
  {
   "cell_type": "markdown",
   "metadata": {},
   "source": [
    "## Task 3\n",
    "\n",
    "**Now let's check the loan amount of an average person based on  `'Gender', 'Married', 'Self_Employed' `.  This will give a basic idea of the average loan amount of a person.**\n",
    "\n",
    "\n",
    "#### Instructions :\n",
    "\n",
    "- We will use previously created dataframe `banks` for this task.\n",
    "- Generate a pivot table with index as `'Gender', 'Married', 'Self_Employed'` and values as `'LoanAmount'`,  using `mean aggregation`\n",
    "\n",
    "\n",
    "- Store the result in a variable called `'avg_loan_amount'`\n",
    "\n",
    "\n"
   ]
  },
  {
   "cell_type": "code",
   "execution_count": null,
   "metadata": {},
   "outputs": [],
   "source": []
  },
  {
   "cell_type": "markdown",
   "metadata": {},
   "source": [
    "## Task 4\n",
    "\n",
    "**Now let's check the percentage of loan approved based on a person's employment type.**\n",
    "\n",
    "\n",
    "#### Instructions:\n",
    "\n",
    "- We will use the previously created dataframe `banks` for this task.\n",
    "\n",
    "- Create variable `'loan_approved_se'` and store the count of results where `Self_Employed` == `Yes ` and `Loan_Status` == `Y`.\n",
    "\n",
    "- Create variable `'loan_approved_nse'` and store the count of results where `Self_Employed` == `No ` and `Loan_Status` == `Y`.\n",
    "\n",
    "- `Loan_Status` count is given as `614`.\n",
    "\n",
    "- Calculate the percentage of loan approval for self-employed people and store result in variable `'percentage_se'`. \n",
    "\n",
    "- Calculate the percentage of loan approval for people who are not self-employed and store the result in variable `'percentage_nse'`.\n",
    "\n"
   ]
  },
  {
   "cell_type": "code",
   "execution_count": null,
   "metadata": {},
   "outputs": [],
   "source": []
  },
  {
   "cell_type": "markdown",
   "metadata": {},
   "source": [
    "## Task 5\n",
    "\n",
    "**A government audit is happening real soon! So the company wants to find out those applicants with long loan amount term.**  \n",
    "\n",
    "#### Instructions:\n",
    "\n",
    "- Use `\"apply()\"` function to convert `Loan_Amount_Term`  which is in months to a year and store the result in a variable `'loan_term'`.\n",
    "\n",
    "- Find the number of applicants having loan amount term greater than or equal to 25 years and store them in a variable called `'big_loan_term'`.\n",
    "\n"
   ]
  },
  {
   "cell_type": "code",
   "execution_count": null,
   "metadata": {},
   "outputs": [],
   "source": []
  },
  {
   "cell_type": "markdown",
   "metadata": {},
   "source": [
    "## Task 6\n",
    "\n",
    "**Now let's check the average income of an applicant and the average loan given to a person based on their income.**\n",
    "\n",
    "\n",
    "#### Instructions :\n",
    "\n",
    "- Groupby the `'banks'` dataframe by `Loan_Status` and store the result in a variable called `'loan_groupby'`\n",
    "\n",
    "- Subset `'loan_groupby'` to include only  `['ApplicantIncome', 'Credit_History']` and store the subsetted dataframe back in `'loan_groupby'`\n",
    "\n",
    "- Then find the `mean` of `'loan_groupby'` and store the result in a new variable `'mean_values'`\n",
    "\n",
    "\n"
   ]
  },
  {
   "cell_type": "code",
   "execution_count": null,
   "metadata": {},
   "outputs": [],
   "source": []
  },
  {
   "cell_type": "markdown",
   "metadata": {},
   "source": []
  }
 ],
 "metadata": {
  "kernelspec": {
   "display_name": "Python 3",
   "language": "python",
   "name": "python3"
  },
  "language_info": {
   "codemirror_mode": {
    "name": "ipython",
    "version": 3
   },
   "file_extension": ".py",
   "mimetype": "text/x-python",
   "name": "python",
   "nbconvert_exporter": "python",
   "pygments_lexer": "ipython3",
   "version": "3.7.6"
  }
 },
 "nbformat": 4,
 "nbformat_minor": 4
}
